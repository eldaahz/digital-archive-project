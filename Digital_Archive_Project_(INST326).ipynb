{
  "nbformat": 4,
  "nbformat_minor": 0,
  "metadata": {
    "colab": {
      "provenance": [],
      "authorship_tag": "ABX9TyM1niMx/cCc+rPnr4vdwKpr",
      "include_colab_link": true
    },
    "kernelspec": {
      "name": "python3",
      "display_name": "Python 3"
    },
    "language_info": {
      "name": "python"
    }
  },
  "cells": [
    {
      "cell_type": "markdown",
      "metadata": {
        "id": "view-in-github",
        "colab_type": "text"
      },
      "source": [
        "<a href=\"https://colab.research.google.com/github/eldaahz/digital-archive-project/blob/main/Digital_Archive_Project_(INST326).ipynb\" target=\"_parent\"><img src=\"https://colab.research.google.com/assets/colab-badge.svg\" alt=\"Open In Colab\"/></a>"
      ]
    },
    {
      "cell_type": "code",
      "execution_count": 1,
      "metadata": {
        "colab": {
          "base_uri": "https://localhost:8080/"
        },
        "id": "bkvI6V_UhYD_",
        "outputId": "e2e9d836-d2fa-41d8-f7a8-9243715d1273"
      },
      "outputs": [
        {
          "output_type": "stream",
          "name": "stdout",
          "text": [
            "Fitzgerald F. Scott\n",
            "Charlotte Bronte\n"
          ]
        }
      ],
      "source": [
        "def standardize_artist_name(name:str):\n",
        "  \"\"\"\n",
        "  Standardize the given artist name so we can compare all names and store them\n",
        "    It will be in a \"Last Name, First Name\" format\n",
        "  This function will remove whitespace, fix capitalization\n",
        "  Return value: the standarized artist name or a error message if somethign is wrong\n",
        "  \"\"\"\n",
        "  if name == \"\" or name is None:\n",
        "    print(\"Error: Invalid artist name\")\n",
        "    return \"\"\n",
        "\n",
        "  name = name.strip()\n",
        "\n",
        "  if \",\" in name:\n",
        "    parts = name.split(\",\", 1)\n",
        "    name = parts[1].strip() + \" \" + parts[0].strip()\n",
        "\n",
        "  name = \" \".join(name.split())\n",
        "  name = name.title()\n",
        "  return name\n",
        "\n",
        "#Testing the function\n",
        "print(standardize_artist_name(\"F. scott, fitzgerald\"))\n",
        "print(standardize_artist_name(\"bronte, charlotte\"))"
      ]
    },
    {
      "cell_type": "code",
      "source": [],
      "metadata": {
        "id": "hSDdm8_UiOnb"
      },
      "execution_count": 1,
      "outputs": []
    }
  ]
}