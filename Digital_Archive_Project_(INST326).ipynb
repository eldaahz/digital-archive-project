{
  "nbformat": 4,
  "nbformat_minor": 0,
  "metadata": {
    "colab": {
      "provenance": [],
      "include_colab_link": true
    },
    "kernelspec": {
      "name": "python3",
      "display_name": "Python 3"
    },
    "language_info": {
      "name": "python"
    }
  },
  "cells": [
    {
      "cell_type": "markdown",
      "metadata": {
        "id": "view-in-github",
        "colab_type": "text"
      },
      "source": [
        "<a href=\"https://colab.research.google.com/github/eldaahz/digital-archive-project/blob/main/Digital_Archive_Project_(INST326).ipynb\" target=\"_parent\"><img src=\"https://colab.research.google.com/assets/colab-badge.svg\" alt=\"Open In Colab\"/></a>"
      ]
    },
    {
      "cell_type": "code",
      "execution_count": null,
      "metadata": {
        "colab": {
          "base_uri": "https://localhost:8080/"
        },
        "id": "bkvI6V_UhYD_",
        "outputId": "e2e9d836-d2fa-41d8-f7a8-9243715d1273"
      },
      "outputs": [
        {
          "output_type": "stream",
          "name": "stdout",
          "text": [
            "Fitzgerald F. Scott\n",
            "Charlotte Bronte\n"
          ]
        }
      ],
      "source": [
        "def standardize_artist_name(name:str):\n",
        "  \"\"\"\n",
        "  Standardize the given artist name so we can compare all names and store them\n",
        "    It will be in a \"Last Name, First Name\" format\n",
        "  This function will remove whitespace, fix capitalization\n",
        "  Return value: the standarized artist name or a error message if somethign is wrong\n",
        "  \"\"\"\n",
        "  if name == \"\" or name is None:\n",
        "    print(\"Error: Invalid artist name\")\n",
        "    return \"\"\n",
        "\n",
        "  name = name.strip()\n",
        "\n",
        "  if \",\" in name:\n",
        "    parts = name.split(\",\", 1)\n",
        "    name = parts[1].strip() + \" \" + parts[0].strip()\n",
        "\n",
        "  name = \" \".join(name.split())\n",
        "  name = name.title()\n",
        "  return name\n",
        "\n",
        "#Testing the function\n",
        "print(standardize_artist_name(\"F. scott, fitzgerald\"))\n",
        "print(standardize_artist_name(\"bronte, charlotte\"))"
      ]
    },
    {
      "cell_type": "code",
      "source": [
        "def validate_image_resolution(file_path: str, min_width: int, min_height: int):\n",
        "  \"\"\"\n",
        "  This function will validate that an image meets a minimum resolution requirement\n",
        "  Parameters: the file path, the minimum width, and the minimum height\n",
        "  Return value: True if image meets required criteria and False if it does not\n",
        "  \"\"\"\n",
        "  try:\n",
        "    with Image.open(file_path) as img:\n",
        "      width, height = img.size\n",
        "    if width >= min_width and height >= min_height:\n",
        "      print(\"Image is valid!\")\n",
        "      return True\n",
        "    else:\n",
        "      print(f\"Image too small!\")\n",
        "      return False\n",
        "  except FileNotFoundError:\n",
        "    print(\"Error: File was not found.\")\n",
        "  except Exception as e:\n",
        "    print(\"Error reading image\")\n",
        "    return False"
      ],
      "metadata": {
        "id": "hSDdm8_UiOnb"
      },
      "execution_count": null,
      "outputs": []
    },
    {
      "cell_type": "code",
      "source": [],
      "metadata": {
        "id": "RKadfFXipYfV"
      },
      "execution_count": null,
      "outputs": []
    },
    {
      "cell_type": "code",
      "source": [
        "def artwork_type(art_type: str):\n",
        "  \"\"\"\n",
        "  This function will organize artworks into their respective categories. Like if it is a painting or a sculpture.\n",
        "  Parameters: artwork type provided by the user\n",
        "  Return value:\n",
        "  \"\"\"\n",
        "\n",
        "  if type(art_type) != str:\n",
        "    print(\"Error: Artwork type must be entered as a string.\")\n",
        "    return \"\"\n",
        "\n",
        "  art_type = art_type.strip().lower()\n",
        "\n",
        "  valid_types = {\n",
        "  \"painting\": \"Painting\",\n",
        "  \"photograph\": \"Photograph\",\n",
        "  \"sculpture\": \"Sculpture\",\n",
        "  \"drawing\": \"Drawing\",\n",
        "  }\n",
        "\n",
        "  if art_type in valid_types:\n",
        "    return valid_types[art_type]\n",
        "  else:\n",
        "    print(\"Error: Unknown artwork type. Please choose from the options:\")\n",
        "    print(\", \".join(valid_types.values()))\n",
        "    return \"\"\n",
        "\n",
        "    #Testing function\n",
        "print(artwork_type(\"photograph\"))\n",
        "print(artwork_type(\"sculpture\"))"
      ],
      "metadata": {
        "colab": {
          "base_uri": "https://localhost:8080/"
        },
        "id": "5tMO7lKLEnMh",
        "outputId": "3564cc48-9f09-44f0-95c3-1a2b62e1d512"
      },
      "execution_count": null,
      "outputs": [
        {
          "output_type": "stream",
          "name": "stdout",
          "text": [
            "Photograph\n",
            "Sculpture\n"
          ]
        }
      ]
    },
    {
      "cell_type": "code",
      "source": [
        "# Eldaah Z\n"
      ],
      "metadata": {
        "id": "wJrQLC6rpZfY"
      },
      "execution_count": null,
      "outputs": []
    }
  ]
}