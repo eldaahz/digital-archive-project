{
  "nbformat": 4,
  "nbformat_minor": 0,
  "metadata": {
    "colab": {
      "provenance": [],
      "include_colab_link": true
    },
    "kernelspec": {
      "name": "python3",
      "display_name": "Python 3"
    },
    "language_info": {
      "name": "python"
    }
  },
  "cells": [
    {
      "cell_type": "markdown",
      "metadata": {
        "id": "view-in-github",
        "colab_type": "text"
      },
      "source": [
        "<a href=\"https://colab.research.google.com/github/eldaahz/digital-archive-project/blob/main/Digital_Archive_Project_(INST326).ipynb\" target=\"_parent\"><img src=\"https://colab.research.google.com/assets/colab-badge.svg\" alt=\"Open In Colab\"/></a>"
      ]
    },
    {
      "cell_type": "code",
      "execution_count": null,
      "metadata": {
        "colab": {
          "base_uri": "https://localhost:8080/"
        },
        "id": "bkvI6V_UhYD_",
        "outputId": "e2e9d836-d2fa-41d8-f7a8-9243715d1273"
      },
      "outputs": [
        {
          "output_type": "stream",
          "name": "stdout",
          "text": [
            "Fitzgerald F. Scott\n",
            "Charlotte Bronte\n"
          ]
        }
      ],
      "source": [
        "def standardize_artist_name(name:str):\n",
        "  \"\"\"\n",
        "  Standardize the given artist name so we can compare all names and store them\n",
        "    It will be in a \"Last Name, First Name\" format\n",
        "  This function will remove whitespace, fix capitalization\n",
        "  Return value: the standarized artist name or a error message if somethign is wrong\n",
        "  \"\"\"\n",
        "  if name == \"\" or name is None:\n",
        "    print(\"Error: Invalid artist name\")\n",
        "    return \"\"\n",
        "\n",
        "  name = name.strip()\n",
        "\n",
        "  if \",\" in name:\n",
        "    parts = name.split(\",\", 1)\n",
        "    name = parts[1].strip() + \" \" + parts[0].strip()\n",
        "\n",
        "  name = \" \".join(name.split())\n",
        "  name = name.title()\n",
        "  return name\n",
        "\n",
        "#Testing the function\n",
        "print(standardize_artist_name(\"F. scott, fitzgerald\"))\n",
        "print(standardize_artist_name(\"bronte, charlotte\"))"
      ]
    },
    {
      "cell_type": "code",
      "source": [
        "def validate_image_resolution(file_path: str, min_width: int, min_height: int):\n",
        "  \"\"\"\n",
        "  This function will validate that an image meets a minimum resolution requirement\n",
        "  Parameters: the file path, the minimum width, and the minimum height\n",
        "  Return value: True if image meets required criteria and False if it does not\n",
        "  \"\"\"\n",
        "  try:\n",
        "    with Image.open(file_path) as img:\n",
        "      width, height = img.size\n",
        "    if width >= min_width and height >= min_height:\n",
        "      print(\"Image is valid!\")\n",
        "      return True\n",
        "    else:\n",
        "      print(f\"Image too small!\")\n",
        "      return False\n",
        "  except FileNotFoundError:\n",
        "    print(\"Error: File was not found.\")\n",
        "  except Exception as e:\n",
        "    print(\"Error reading image\")\n",
        "    return False"
      ],
      "metadata": {
        "id": "hSDdm8_UiOnb"
      },
      "execution_count": null,
      "outputs": []
    },
    {
      "cell_type": "code",
      "source": [],
      "metadata": {
        "id": "RKadfFXipYfV"
      },
      "execution_count": null,
      "outputs": []
    },
    {
      "cell_type": "code",
      "source": [
        "def artwork_type(art_type: str):\n",
        "  \"\"\"\n",
        "  This function will organize artworks into their respective categories. Like if it is a painting or a sculpture.\n",
        "  Parameters: artwork type provided by the user\n",
        "  Return value:\n",
        "  \"\"\"\n",
        "\n",
        "  if type(art_type) != str:\n",
        "    print(\"Error: Artwork type must be entered as a string.\")\n",
        "    return \"\"\n",
        "\n",
        "  art_type = art_type.strip().lower()\n",
        "\n",
        "  valid_types = {\n",
        "  \"painting\": \"Painting\",\n",
        "  \"photograph\": \"Photograph\",\n",
        "  \"sculpture\": \"Sculpture\",\n",
        "  \"drawing\": \"Drawing\",\n",
        "  }\n",
        "\n",
        "  if art_type in valid_types:\n",
        "    return valid_types[art_type]\n",
        "  else:\n",
        "    print(\"Error: Unknown artwork type. Please choose from the options:\")\n",
        "    print(\", \".join(valid_types.values()))\n",
        "    return \"\"\n",
        "\n",
        "    #Testing function\n",
        "print(artwork_type(\"photograph\"))\n",
        "print(artwork_type(\"sculpture\"))"
      ],
      "metadata": {
        "colab": {
          "base_uri": "https://localhost:8080/"
        },
        "id": "5tMO7lKLEnMh",
        "outputId": "3564cc48-9f09-44f0-95c3-1a2b62e1d512"
      },
      "execution_count": null,
      "outputs": [
        {
          "output_type": "stream",
          "name": "stdout",
          "text": [
            "Photograph\n",
            "Sculpture\n"
          ]
        }
      ]
    },
    {
      "cell_type": "code",
      "source": [
        "# Eldaah Z\n",
        "\n",
        "  # Simple Functions\n",
        "  \"\"\"Prompts user to enter artwork's height, length, and width validating\n",
        "  each dimensions & ensuring only positive numbers are entered\n",
        "  \"\"\"\n",
        "  try:\n",
        "    height = float(input(\"Enter height (cm):\"))\n",
        "    length = float(input(\"Enter length (cm):\"))\n",
        "    width = float(input(\"Enter width (cm): \"))\n",
        "    if height <= 0 or length <= 0 or width <= 0:\n",
        "      print(\"Error: All dimensions must be positive numbers\")\n",
        "      return None\n",
        "\n",
        "    print(f\"Dimensions validated: H={height}cm, L={length}cm, W={width}cm\")\n",
        "    return {\"Height: height, \"Length: length, \"Width\": width}\n",
        "\n",
        "  except ValueError:\n",
        "    print(\"Error: Please enter numeric values\")\n",
        "    return None\n",
        "\n"
      ],
      "metadata": {
        "id": "wJrQLC6rpZfY",
        "colab": {
          "base_uri": "https://localhost:8080/",
          "height": 108
        },
        "outputId": "6aa26711-5427-4d17-d77b-03de6587459e"
      },
      "execution_count": 4,
      "outputs": [
        {
          "output_type": "error",
          "ename": "IndentationError",
          "evalue": "unexpected indent (ipython-input-890947338.py, line 4)",
          "traceback": [
            "\u001b[0;36m  File \u001b[0;32m\"/tmp/ipython-input-890947338.py\"\u001b[0;36m, line \u001b[0;32m4\u001b[0m\n\u001b[0;31m    \"\"\"Prompts user to enter artwork's height, length, and width validating\u001b[0m\n\u001b[0m    ^\u001b[0m\n\u001b[0;31mIndentationError\u001b[0m\u001b[0;31m:\u001b[0m unexpected indent\n"
          ]
        }
      ]
    },
    {
      "cell_type": "code",
      "source": [
        "\n",
        "# Medium Functions\n",
        "def search_art_by_artist():\n",
        "  \"\"\"\n",
        "  Allow user to search artwork in our library by artist name\n",
        "  \"\"\"\n",
        "  artworks = [\n",
        "      {\"Title\": \"ArtworkName1:\", \"ArtworkName2\":, \"ArtworkName3\":}\n",
        "  ]\n",
        "  search_artist = input(\"Enter the artist's name to search\")\n",
        "  found_artworks = []\n",
        "\n",
        "  for art in artworks:\n",
        "    if art[\"Artisit\"].title() == artist_input\n",
        "    found_artworks.append(art)\n",
        "\n",
        "  if found_artworks:\n",
        "    print(f\"\\nFound {len(found_artworks)} artworks by {search_artist}:\")\n",
        "    for ..."
      ],
      "metadata": {
        "id": "HGphdtZdYj6I",
        "outputId": "4f677329-022e-4a1b-cdb2-7d83d116c2bc",
        "colab": {
          "base_uri": "https://localhost:8080/",
          "height": 108
        }
      },
      "execution_count": 5,
      "outputs": [
        {
          "output_type": "error",
          "ename": "SyntaxError",
          "evalue": "expression expected after dictionary key and ':' (ipython-input-2854368441.py, line 7)",
          "traceback": [
            "\u001b[0;36m  File \u001b[0;32m\"/tmp/ipython-input-2854368441.py\"\u001b[0;36m, line \u001b[0;32m7\u001b[0m\n\u001b[0;31m    {\"Title\": \"ArtworkName1:\", \"ArtworkName2\":, \"ArtworkName3\":}\u001b[0m\n\u001b[0m                                             ^\u001b[0m\n\u001b[0;31mSyntaxError\u001b[0m\u001b[0;31m:\u001b[0m expression expected after dictionary key and ':'\n"
          ]
        }
      ]
    },
    {
      "cell_type": "code",
      "source": [
        "# Simple Function\n",
        "def clean_titles():\n",
        "\"\"\"\n",
        "  Prompts user for artwrok title while remvoing special characters or extra spaces\n",
        "\"\"\"\n",
        "title = input(\"Enter artwork title:\")\n",
        "special = \"!@#$%^&*()+-_\\/?<>~`:;[]{}\"\n",
        "\n",
        "for symbol in specials:\n",
        "  title = title.replace(symbol, \"\")\n",
        "\n",
        "title = title.strip()\n",
        "print(f\"Sanitized title: {title}\")\n",
        "return title\n"
      ],
      "metadata": {
        "id": "mJg5CzgsYfQa",
        "outputId": "2ffbc867-296a-442f-e57c-a8e1c9f110e8",
        "colab": {
          "base_uri": "https://localhost:8080/",
          "height": 108
        }
      },
      "execution_count": 7,
      "outputs": [
        {
          "output_type": "error",
          "ename": "IndentationError",
          "evalue": "expected an indented block after function definition on line 2 (ipython-input-175638756.py, line 3)",
          "traceback": [
            "\u001b[0;36m  File \u001b[0;32m\"/tmp/ipython-input-175638756.py\"\u001b[0;36m, line \u001b[0;32m3\u001b[0m\n\u001b[0;31m    \"\"\"\u001b[0m\n\u001b[0m    ^\u001b[0m\n\u001b[0;31mIndentationError\u001b[0m\u001b[0;31m:\u001b[0m expected an indented block after function definition on line 2\n"
          ]
        }
      ]
    }
  ]
}