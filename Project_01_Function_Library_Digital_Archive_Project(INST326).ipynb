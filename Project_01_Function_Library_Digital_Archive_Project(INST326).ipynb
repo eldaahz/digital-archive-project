{
  "nbformat": 4,
  "nbformat_minor": 0,
  "metadata": {
    "colab": {
      "provenance": [],
      "include_colab_link": true
    },
    "kernelspec": {
      "name": "python3",
      "display_name": "Python 3"
    },
    "language_info": {
      "name": "python"
    }
  },
  "cells": [
    {
      "cell_type": "markdown",
      "metadata": {
        "id": "view-in-github",
        "colab_type": "text"
      },
      "source": [
        "<a href=\"https://colab.research.google.com/github/eldaahz/digital-archive-project/blob/main/Project_01_Function_Library_Digital_Archive_Project(INST326).ipynb\" target=\"_parent\"><img src=\"https://colab.research.google.com/assets/colab-badge.svg\" alt=\"Open In Colab\"/></a>"
      ]
    },
    {
      "cell_type": "code",
      "execution_count": null,
      "metadata": {
        "colab": {
          "base_uri": "https://localhost:8080/"
        },
        "id": "bkvI6V_UhYD_",
        "outputId": "e2e9d836-d2fa-41d8-f7a8-9243715d1273"
      },
      "outputs": [
        {
          "output_type": "stream",
          "name": "stdout",
          "text": [
            "Fitzgerald F. Scott\n",
            "Charlotte Bronte\n"
          ]
        }
      ],
      "source": [
        "# Atena Nikbakht - Simple Function\n",
        "\n",
        "def standardize_artist_name(name:str):\n",
        "  \"\"\"\n",
        "  Standardize the given artist name so we can compare all names and store them\n",
        "    It will be in a \"Last Name, First Name\" format\n",
        "  This function will remove whitespace, fix capitalization\n",
        "  Return value: the standarized artist name or a error message if somethign is wrong\n",
        "  \"\"\"\n",
        "  if name == \"\" or name is None:\n",
        "    print(\"Error: Invalid artist name\")\n",
        "    return \"\"\n",
        "\n",
        "  name = name.strip()\n",
        "\n",
        "  if \",\" in name:\n",
        "    parts = name.split(\",\", 1)\n",
        "    name = parts[1].strip() + \" \" + parts[0].strip()\n",
        "\n",
        "  name = \" \".join(name.split())\n",
        "  name = name.title()\n",
        "  return name\n",
        "\n",
        "#Testing the function\n",
        "print(standardize_artist_name(\"F. scott, fitzgerald\"))\n",
        "print(standardize_artist_name(\"bronte, charlotte\"))"
      ]
    },
    {
      "cell_type": "code",
      "source": [
        "# Atena Nikbakht - Simple Function\n",
        "\n",
        "def validate_image_resolution(file_path: str, min_width: int, min_height: int):\n",
        "  \"\"\"\n",
        "  This function will validate that an image meets a minimum resolution requirement\n",
        "  Parameters: the file path, the minimum width, and the minimum height\n",
        "  Return value: True if image meets required criteria and False if it does not\n",
        "  \"\"\"\n",
        "  try:\n",
        "    with Image.open(file_path) as img:\n",
        "      width, height = img.size\n",
        "    if width >= min_width and height >= min_height:\n",
        "      print(\"Image is valid!\")\n",
        "      return True\n",
        "    else:\n",
        "      print(f\"Image too small!\")\n",
        "      return False\n",
        "  except FileNotFoundError:\n",
        "    print(\"Error: File was not found.\")\n",
        "  except Exception as e:\n",
        "    print(\"Error reading image\")\n",
        "    return False"
      ],
      "metadata": {
        "id": "hSDdm8_UiOnb"
      },
      "execution_count": null,
      "outputs": []
    },
    {
      "cell_type": "code",
      "source": [
        "# Atena Nikbakht - Medium Function\n",
        "\n",
        "def artwork_type(art_type: str):\n",
        "  \"\"\"\n",
        "  This function will organize artworks into their respective categories. Like if it is a painting or a sculpture.\n",
        "  Parameters: artwork type provided by the user\n",
        "  Return value:\n",
        "  \"\"\"\n",
        "\n",
        "  if type(art_type) != str:\n",
        "    print(\"Error: Artwork type must be entered as a string.\")\n",
        "    return \"\"\n",
        "\n",
        "  art_type = art_type.strip().lower()\n",
        "\n",
        "  valid_types = {\n",
        "  \"painting\": \"Painting\",\n",
        "  \"photograph\": \"Photograph\",\n",
        "  \"sculpture\": \"Sculpture\",\n",
        "  \"drawing\": \"Drawing\",\n",
        "  }\n",
        "\n",
        "  if art_type in valid_types:\n",
        "    return valid_types[art_type]\n",
        "  else:\n",
        "    print(\"Error: Unknown artwork type. Please choose from the options:\")\n",
        "    print(\", \".join(valid_types.values()))\n",
        "    return \"\"\n",
        "\n",
        "#Testing function\n",
        "print(artwork_type(\"photograph\"))\n",
        "print(artwork_type(\"sculpture\"))"
      ],
      "metadata": {
        "colab": {
          "base_uri": "https://localhost:8080/"
        },
        "id": "5tMO7lKLEnMh",
        "outputId": "3564cc48-9f09-44f0-95c3-1a2b62e1d512"
      },
      "execution_count": null,
      "outputs": [
        {
          "output_type": "stream",
          "name": "stdout",
          "text": [
            "Photograph\n",
            "Sculpture\n"
          ]
        }
      ]
    },
    {
      "cell_type": "code",
      "source": [
        "# Atena Nikbakht - Complex Function\n",
        "\n",
        "def search_art_by_metadata(artworks: list, search_term: str, search_field: str = \"all\"):\n",
        "  \"\"\"\n",
        "  This function will search for artworks in system by artist, title, year, or any keywords the user provides.\n",
        "  Parameters:\n",
        "    artworks: a list of dictionaries\n",
        "    search_term (string): the word or phrase the user gives which will be used to search with.\n",
        "    search_field (string): The metadata field to seach like the artist, title, or all categories.\n",
        "  Return Value: a list of mataching artworks\n",
        "    \"\"\"\n",
        "  # if the search\n",
        "  if not isinstance(artworks, list):\n",
        "    print(\"Error: artworks must be a list.\")\n",
        "    return []\n",
        "  # If the given search term is not a string\n",
        "  if not isinstance(search_term, str):\n",
        "    print(\"Error: search term must be a string.\")\n",
        "    return []\n",
        "\n",
        "  search_term = search_term.lower().strip()\n",
        "  matches = []\n",
        "\n",
        "  for art in artworks:\n",
        "    if not isinstance(art, dict):\n",
        "      continue\n",
        "    # Getting the \"artist\" key from the dictionary, and if it doesn't exist, return empty string\n",
        "    artist = str(art.get(\"artist\", \"\")).lower()\n",
        "    title = str(art.get(\"title\", \"\")).lower()\n",
        "    year = str(art.get(\"year\", \"\"))\n",
        "    art_type = str(art.get(\"type\", \"\")).lower()\n",
        "    keywords = [k.lower() for k in art.get(\"keywords\", [])]\n",
        "\n",
        "    found = False\n",
        "    if search_field == \"artist\" and search_term in artist:\n",
        "      found = True\n",
        "    elif search_field == \"title\" and search_term in title:\n",
        "      found = True\n",
        "    elif search_field == \"year\" and search_term == year:\n",
        "      found = True\n",
        "    elif search_field == \"type\" and search_term in art_type:\n",
        "      found = True\n",
        "    elif search_field == \"keywords\" and search_term in keywords:\n",
        "      found = True\n",
        "    elif search_field == \"all\":\n",
        "      if (\n",
        "          search_term in artist\n",
        "          or search_term in title\n",
        "          or search_term in year\n",
        "          or search_term in art_type\n",
        "          or search_term in \" \".join(keywords)\n",
        "      ):\n",
        "        found = True\n",
        "\n",
        "    if found:\n",
        "      matches.append(art)\n",
        "\n",
        "  print(f\"Found {len(matches)} matches for '{search_term}' in field '{search_field}'.\")\n",
        "\n",
        "# Testing Function\n",
        "artworks = [\n",
        "    {\"title\": \"Starry Night\", \"artist\": \"Vincent van Gogh\", \"year\": 1889, \"type\": \"Painting\", \"keywords\": [\"post-impressionism\", \"night\", \"stars\"]},\n",
        "    {\"title\": \"Water Lilies\", \"artist\": \"Claude Monet\", \"year\": 1899, \"type\": \"Painting\", \"keywords\": [\"impressionism\", \"light\", \"French\"]}\n",
        "]\n",
        "\n",
        "results = search_art_by_metadata(artworks, \"Monet\", \"artist\")\n"
      ],
      "metadata": {
        "colab": {
          "base_uri": "https://localhost:8080/"
        },
        "id": "c8_RB1qcv0t8",
        "outputId": "6b8c34b5-44aa-47d0-bb1e-3b58ec4b455c"
      },
      "execution_count": null,
      "outputs": [
        {
          "output_type": "stream",
          "name": "stdout",
          "text": [
            "Found 1 matches for 'monet' in field 'artist'.\n"
          ]
        }
      ]
    },
    {
      "cell_type": "code",
      "source": [
        "# Eldaah Z\n",
        "\n",
        "  # Simple Functions\n",
        "  \"\"\"Prompts user to enter artwork's height, length, and width validating\n",
        "  each dimensions & ensuring only positive numbers are entered\n",
        "  \"\"\"\n",
        "  try:\n",
        "    height = float(input(\"Enter height (cm):\"))\n",
        "    length = float(input(\"Enter length (cm):\"))\n",
        "    width = float(input(\"Enter width (cm): \"))\n",
        "    if height <= 0 or length <= 0 or width <= 0:\n",
        "      print(\"Error: All dimensions must be positive numbers\")\n",
        "      return None\n",
        "\n",
        "    print(f\"Dimensions validated: H={height}cm, L={length}cm, W={width}cm\")\n",
        "    return {\"Height: height, \"Length: length, \"Width\": width}\n",
        "\n",
        "  except ValueError:\n",
        "    print(\"Error: Please enter numeric values\")\n",
        "    return None\n",
        "\n"
      ],
      "metadata": {
        "id": "wJrQLC6rpZfY",
        "colab": {
          "base_uri": "https://localhost:8080/",
          "height": 108
        },
        "outputId": "6aa26711-5427-4d17-d77b-03de6587459e"
      },
      "execution_count": null,
      "outputs": [
        {
          "output_type": "error",
          "ename": "IndentationError",
          "evalue": "unexpected indent (ipython-input-890947338.py, line 4)",
          "traceback": [
            "\u001b[0;36m  File \u001b[0;32m\"/tmp/ipython-input-890947338.py\"\u001b[0;36m, line \u001b[0;32m4\u001b[0m\n\u001b[0;31m    \"\"\"Prompts user to enter artwork's height, length, and width validating\u001b[0m\n\u001b[0m    ^\u001b[0m\n\u001b[0;31mIndentationError\u001b[0m\u001b[0;31m:\u001b[0m unexpected indent\n"
          ]
        }
      ]
    },
    {
      "cell_type": "code",
      "source": [
        "\n",
        "# Medium Functions\n",
        "def search_art_by_artist():\n",
        "  \"\"\"\n",
        "  Allow user to search artwork in our library by artist name\n",
        "  \"\"\"\n",
        "  artworks = [\n",
        "      {\"Title\": \"ArtworkName1:\", \"ArtworkName2\":, \"ArtworkName3\":}\n",
        "  ]\n",
        "  search_artist = input(\"Enter the artist's name to search\")\n",
        "  found_artworks = []\n",
        "\n",
        "  for art in artworks:\n",
        "    if art[\"Artisit\"].title() == artist_input\n",
        "    found_artworks.append(art)\n",
        "\n",
        "  if found_artworks:\n",
        "    print(f\"\\nFound {len(found_artworks)} artworks by {search_artist}:\")\n",
        "    for ..."
      ],
      "metadata": {
        "id": "HGphdtZdYj6I",
        "outputId": "4f677329-022e-4a1b-cdb2-7d83d116c2bc",
        "colab": {
          "base_uri": "https://localhost:8080/",
          "height": 108
        }
      },
      "execution_count": null,
      "outputs": [
        {
          "output_type": "error",
          "ename": "SyntaxError",
          "evalue": "expression expected after dictionary key and ':' (ipython-input-2854368441.py, line 7)",
          "traceback": [
            "\u001b[0;36m  File \u001b[0;32m\"/tmp/ipython-input-2854368441.py\"\u001b[0;36m, line \u001b[0;32m7\u001b[0m\n\u001b[0;31m    {\"Title\": \"ArtworkName1:\", \"ArtworkName2\":, \"ArtworkName3\":}\u001b[0m\n\u001b[0m                                             ^\u001b[0m\n\u001b[0;31mSyntaxError\u001b[0m\u001b[0;31m:\u001b[0m expression expected after dictionary key and ':'\n"
          ]
        }
      ]
    },
    {
      "cell_type": "code",
      "source": [
        "# Simple Function\n",
        "def clean_titles():\n",
        "\"\"\"\n",
        "  Prompts user for artwrok title while remvoing special characters or extra spaces\n",
        "\"\"\"\n",
        "title = input(\"Enter artwork title:\")\n",
        "special = \"!@#$%^&*()+-_\\/?<>~`:;[]{}\"\n",
        "\n",
        "for symbol in specials:\n",
        "  title = title.replace(symbol, \"\")\n",
        "\n",
        "title = title.strip()\n",
        "print(f\"Sanitized title: {title}\")\n",
        "return title\n"
      ],
      "metadata": {
        "id": "mJg5CzgsYfQa",
        "outputId": "2ffbc867-296a-442f-e57c-a8e1c9f110e8",
        "colab": {
          "base_uri": "https://localhost:8080/",
          "height": 108
        }
      },
      "execution_count": null,
      "outputs": [
        {
          "output_type": "error",
          "ename": "IndentationError",
          "evalue": "expected an indented block after function definition on line 2 (ipython-input-175638756.py, line 3)",
          "traceback": [
            "\u001b[0;36m  File \u001b[0;32m\"/tmp/ipython-input-175638756.py\"\u001b[0;36m, line \u001b[0;32m3\u001b[0m\n\u001b[0;31m    \"\"\"\u001b[0m\n\u001b[0m    ^\u001b[0m\n\u001b[0;31mIndentationError\u001b[0m\u001b[0;31m:\u001b[0m expected an indented block after function definition on line 2\n"
          ]
        }
      ]
    },
    {
      "cell_type": "code",
      "source": [
        "#Faith - Simple Function - Check if artwork valid:\n",
        "def validate_year(year):\n",
        "  \"\"\"\n",
        "  Check if artwork is a valid number between 1000 and 2025\n",
        "  Args:\n",
        "    year: The year to validate (can be string or int)\n",
        "  Returns:\n",
        "    bool: True if valid, False if not\n",
        "  \"\"\"\n",
        "  try:\n",
        "    year_num = int(year)\n",
        "    if year_num >= 1000 and year_num <= 2025:\n",
        "      return True\n",
        "    else:\n",
        "      print(\"Error: Year must between 1000 and 2025.\")\n",
        "  except ValueError:\n",
        "    print(\"Error: Year must be a number.\")\n",
        "\n",
        "print(validate_year(1889))\n",
        "print(validate_year(3000))\n"
      ],
      "metadata": {
        "colab": {
          "base_uri": "https://localhost:8080/"
        },
        "id": "bDisXJb7DpzJ",
        "outputId": "0f626091-f889-43c7-eb41-befbf336b323"
      },
      "execution_count": 4,
      "outputs": [
        {
          "output_type": "stream",
          "name": "stdout",
          "text": [
            "True\n",
            "Error: Year must between 1000 and 2025.\n",
            "None\n"
          ]
        }
      ]
    },
    {
      "cell_type": "code",
      "source": [
        "#Faith - Simple Function - Count artwork by type:\n",
        "def count_by_type(artworks):\n",
        "  \"\"\"\n",
        "  Count how many artworks of each type are in the collection.\n",
        "  Args:\n",
        "    artworks: List of artwork dictionaries\n",
        "  Returns:\n",
        "    dict: Dictionary with type names with keys and counts as values\n",
        "  \"\"\"\n",
        "  type_counts = {}\n",
        "\n",
        "  for art in artworks:\n",
        "    art_type = art.get(\"type\", \"Unknown\")\n",
        "    if art_type in type_counts:\n",
        "      type_counts[art_type] = type_counts[art_type] + 1\n",
        "    else:\n",
        "      type_counts[art_type] = 1\n",
        "  return type_counts\n",
        "\n",
        "artworks = [\n",
        "    {\"title\": \"Starry Night\", \"artist\": \"Van Gogh\", \"year\": 1889, \"type\": \"Painting\"},\n",
        "    {\"title\": \"Mona Lisa\", \"artist\": \"Da Vinci\", \"year\": 1503, \"type\": \"Painting\"},\n",
        "    {\"title\": \"David\", \"artist\": \"Michelangelo\", \"year\": 1504, \"type\": \"Sculpture\"},\n",
        "    {\"title\": \"The Girl with a Pearl Earring\", \"artist\": \"Johannes Vermeer\" \"Van Delft\", \"year\": 1666, \"type\": \"Painting\"}\n",
        "]\n",
        "print(count_by_type(artworks))\n"
      ],
      "metadata": {
        "colab": {
          "base_uri": "https://localhost:8080/"
        },
        "id": "RrZeeZ-iQYq4",
        "outputId": "4a74ccd7-ae07-4970-f1c6-2b6cd687314e"
      },
      "execution_count": 7,
      "outputs": [
        {
          "output_type": "stream",
          "name": "stdout",
          "text": [
            "{'Painting': 3, 'Sculpture': 1}\n"
          ]
        }
      ]
    },
    {
      "cell_type": "code",
      "source": [
        "#Faith - Medium Function - artworks in year range\n",
        "def find_art_by_year_range(artworks, start_year, end_year):\n",
        "  \"\"\"\n",
        "  Find all artworks created between two years.\n",
        "  Args:\n",
        "    artworks: List of artwork dictionaries\n",
        "    start_year: Beginning of year range\n",
        "    end_year: End of year range\n",
        "  Returns:\n",
        "    list: list of artworks within year range\n",
        "  \"\"\"\n",
        "  if start_year > end_year:\n",
        "    print(f\"Error: Start year should be before end year.\")\n",
        "    return[]\n",
        "\n",
        "  found = []\n",
        "\n",
        "  for art in artworks:\n",
        "    year = art.get(\"year\")\n",
        "    if year:\n",
        "      try:\n",
        "        year_num = int(year)\n",
        "        if year_num >= start_year and year_num <= end_year:\n",
        "          found.append(art)\n",
        "      except ValueError:\n",
        "        continue\n",
        "  print(f\"Results for {len(found)} artworks between {start_year} and {end_year}\")\n",
        "  return found\n",
        "\n",
        "artworks = [\n",
        "    {\"title\": \"Starry Night\", \"artist\": \"Van Gogh\", \"year\": 1889, \"type\": \"Painting\"},\n",
        "    {\"title\": \"Mona Lisa\", \"artist\": \"Da Vinci\", \"year\": 1503, \"type\": \"Painting\"},\n",
        "    {\"title\": \"David\", \"artist\": \"Michelangelo\", \"year\": 1504, \"type\": \"Sculpture\"},\n",
        "    {\"title\": \"The Girl with a Pearl Earring\", \"artist\": \"Johannes Vermeer\" \"Van Delft\", \"year\": 1666, \"type\": \"Painting\"}\n",
        "]\n",
        "\n",
        "start = int(input(\"Enter start year: \"))\n",
        "end = int(input(\"Enter end year: \"))\n",
        "results = find_art_by_year_range(artworks, start, end)"
      ],
      "metadata": {
        "colab": {
          "base_uri": "https://localhost:8080/"
        },
        "id": "N3qQ6isTR5Lr",
        "outputId": "5ec15f47-29ff-485b-af1f-d66dc4620d9d"
      },
      "execution_count": 18,
      "outputs": [
        {
          "output_type": "stream",
          "name": "stdout",
          "text": [
            "Enter start year: 1400\n",
            "Enter end year: 2020\n",
            "Results for 4 artworks between 1400 and 2020\n"
          ]
        }
      ]
    },
    {
      "cell_type": "code",
      "source": [
        "#Faith - Complex function - data issues\n",
        "def validate_collection(artworks):\n",
        "  \"\"\"\n",
        "  Check the collection for data quality, issues, and missing information.\n",
        "  Identifies artworks with missing and invalid data\n",
        "  Args:\n",
        "    artworks: List of artworks dictionaries\n",
        "  Returns:\n",
        "    dict: Report with the counts of issues and invalid artworks\n",
        "  \"\"\"\n",
        "  if not isinstance(artworks, list):\n",
        "    print(\"Error: artworks should be a list.\")\n",
        "    return{}\n",
        "  valid_types = [\"Painting\", \"Photograph\", \"Digital Art\", \"Drawing\", \"Mixed Media\"]\n",
        "  missing_fields = []\n",
        "  invalid_years = []\n",
        "  invalid_types = []\n",
        "\n",
        "  for i, art in enumerate(artworks):\n",
        "    if not isinstance(art, dict):\n",
        "      continue\n",
        "    artwork_id = i + 1\n",
        "    issues =[]\n",
        "\n",
        "    if not art.get(\"title\") or art.get(\"title\").strip() == \"\":\n",
        "      issues.append(\"missing title\")\n",
        "    if not art.get(\"artist\") or art.get(\"artist\").strip() == \"\":\n",
        "      issues.append(\"missing artist\")\n",
        "    if not art.get(\"year\"):\n",
        "      issues.append(\"missing year\")\n",
        "\n",
        "    if issues:\n",
        "      missing_fields.append({\"id\": artwork_id, \"artwork\": art, \"issues\": issues})\n",
        "\n",
        "    year = art.get(\"year\")\n",
        "    if year:\n",
        "      try:\n",
        "        year_num = int(year)\n",
        "        if year_num < 1000 or year_num > 2025:\n",
        "          invalid_years.append({\"id\": artwork_id, \"artwork\": art})\n",
        "      except (ValueError, TypeError):\n",
        "        invalid_years.append({\"id\": artwork_id, \"artwork\": art})\n",
        "\n",
        "    art_type = art.get(\"type\")\n",
        "    if art_type and art_type not in valid_types:\n",
        "      invalid_types.append({\"id\": artwork_id, \"artwork\": art, \"type\": art_type})\n",
        "\n",
        "  total_issues = len(missing_fields) + len(invalid_years) + len(invalid_types)\n",
        "\n",
        "  report = {\n",
        "      \"total_artworks\": len(artworks),\n",
        "      \"total_issues\": total_issues,\n",
        "      \"missing_fields\": missing_fields,\n",
        "      \"invalid_years\": invalid_years,\n",
        "      \"invalid_types\": invalid_types\n",
        "  }\n",
        "\n",
        "  print(f\"Validation complete: {total_issues} issues found in {len(artworks)} artworks.\")\n",
        "  print(f\"  - {len(missing_fields)} artworks with missing fields\")\n",
        "  print(f\"  - {len(invalid_years)} artworks with invalid years\")\n",
        "  print(f\"  - {len(invalid_types)} artworks with invalid types\")\n",
        "\n",
        "  return report\n",
        "\n",
        "artworks = [\n",
        "    {\"title\": \"Starry Night\", \"artist\": \"Van Gogh\", \"year\": 1889, \"type\": \"Painting\"},\n",
        "    {\"title\": \"Mona Lisa\", \"artist\": \"Da Vinci\", \"year\": 1503, \"type\": \"Painting\"},\n",
        "    {\"title\": \"David\", \"artist\": \"Michelangelo\", \"year\": 1504, \"type\": \"Sculpture\"},\n",
        "    {\"title\": \"The Girl with a Pearl Earring\", \"artist\": \"Johannes Vermeer\" \"Van Delft\", \"year\": 1666, \"type\": \"Painting\"},\n",
        "    {\"title\": \"Everydays: The First 5000 Days\", \"artist\": \"Beeple\", \"year\": 2021, \"type\": \"Digital Art\"},\n",
        "    {\"title\": \"Quantum\", \"artist\": \"Kevin McCoy\", \"year\": 2014, \"type\": \"Digital Art\"},\n",
        "    {\"title\": \"Quantum\", \"artist\": \"Kevin McCoy\", \"year\": 2014, \"type\": \"Digital Art\"},\n",
        "    {\"title\": \"Infinity Mirrored Room – The Souls of Millions of Light Years Away\", \"artist\": \"Yayoi Kusama\", \"year\": 2013, \"type\": \"Mixed Media\"}\n",
        "\n",
        "]\n",
        "result = validate_collection(artworks)\n",
        "\n",
        ""
      ],
      "metadata": {
        "colab": {
          "base_uri": "https://localhost:8080/"
        },
        "id": "3kFFK8grWmRV",
        "outputId": "60d07987-adf7-463b-c12e-b8ed1bf7f8f1"
      },
      "execution_count": 21,
      "outputs": [
        {
          "output_type": "stream",
          "name": "stdout",
          "text": [
            "Validation complete: 1 issues found in 8 artworks.\n",
            "  - 0 artworks with missing fields\n",
            "  - 0 artworks with invalid years\n",
            "  - 1 artworks with invalid types\n"
          ]
        }
      ]
    },
    {
      "cell_type": "code",
      "source": [],
      "metadata": {
        "id": "simGP3WNqtsW"
      },
      "execution_count": 21,
      "outputs": []
    }
  ]
}