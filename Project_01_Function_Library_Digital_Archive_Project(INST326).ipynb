{
  "nbformat": 4,
  "nbformat_minor": 0,
  "metadata": {
    "colab": {
      "provenance": [],
      "include_colab_link": true
    },
    "kernelspec": {
      "name": "python3",
      "display_name": "Python 3"
    },
    "language_info": {
      "name": "python"
    }
  },
  "cells": [
    {
      "cell_type": "markdown",
      "metadata": {
        "id": "view-in-github",
        "colab_type": "text"
      },
      "source": [
        "<a href=\"https://colab.research.google.com/github/eldaahz/digital-archive-project/blob/main/Project_01_Function_Library_Digital_Archive_Project(INST326).ipynb\" target=\"_parent\"><img src=\"https://colab.research.google.com/assets/colab-badge.svg\" alt=\"Open In Colab\"/></a>"
      ]
    },
    {
      "cell_type": "code",
      "execution_count": null,
      "metadata": {
        "colab": {
          "base_uri": "https://localhost:8080/"
        },
        "id": "bkvI6V_UhYD_",
        "outputId": "e2e9d836-d2fa-41d8-f7a8-9243715d1273"
      },
      "outputs": [
        {
          "output_type": "stream",
          "name": "stdout",
          "text": [
            "Fitzgerald F. Scott\n",
            "Charlotte Bronte\n"
          ]
        }
      ],
      "source": [
        "# Atena Nikbakht - Simple Function\n",
        "\n",
        "def standardize_artist_name(name:str):\n",
        "  \"\"\"\n",
        "  Standardize the given artist name so we can compare all names and store them\n",
        "    It will be in a \"Last Name, First Name\" format\n",
        "  This function will remove whitespace, fix capitalization\n",
        "  Return value: the standarized artist name or a error message if somethign is wrong\n",
        "  \"\"\"\n",
        "  if name == \"\" or name is None:\n",
        "    print(\"Error: Invalid artist name\")\n",
        "    return \"\"\n",
        "\n",
        "  name = name.strip()\n",
        "\n",
        "  if \",\" in name:\n",
        "    parts = name.split(\",\", 1)\n",
        "    name = parts[1].strip() + \" \" + parts[0].strip()\n",
        "\n",
        "  name = \" \".join(name.split())\n",
        "  name = name.title()\n",
        "  return name\n",
        "\n",
        "#Testing the function\n",
        "print(standardize_artist_name(\"F. scott, fitzgerald\"))\n",
        "print(standardize_artist_name(\"bronte, charlotte\"))"
      ]
    },
    {
      "cell_type": "code",
      "source": [
        "# Atena Nikbakht - Simple Function\n",
        "\n",
        "def validate_image_resolution(file_path: str, min_width: int, min_height: int):\n",
        "  \"\"\"\n",
        "  This function will validate that an image meets a minimum resolution requirement\n",
        "  Parameters: the file path, the minimum width, and the minimum height\n",
        "  Return value: True if image meets required criteria and False if it does not\n",
        "  \"\"\"\n",
        "  try:\n",
        "    with Image.open(file_path) as img:\n",
        "      width, height = img.size\n",
        "    if width >= min_width and height >= min_height:\n",
        "      print(\"Image is valid!\")\n",
        "      return True\n",
        "    else:\n",
        "      print(f\"Image too small!\")\n",
        "      return False\n",
        "  except FileNotFoundError:\n",
        "    print(\"Error: File was not found.\")\n",
        "  except Exception as e:\n",
        "    print(\"Error reading image\")\n",
        "    return False"
      ],
      "metadata": {
        "id": "hSDdm8_UiOnb"
      },
      "execution_count": null,
      "outputs": []
    },
    {
      "cell_type": "code",
      "source": [
        "# Atena Nikbakht - Medium Function\n",
        "\n",
        "def artwork_type(art_type: str):\n",
        "  \"\"\"\n",
        "  This function will organize artworks into their respective categories. Like if it is a painting or a sculpture.\n",
        "  Parameters: artwork type provided by the user\n",
        "  Return value:\n",
        "  \"\"\"\n",
        "\n",
        "  if type(art_type) != str:\n",
        "    print(\"Error: Artwork type must be entered as a string.\")\n",
        "    return \"\"\n",
        "\n",
        "  art_type = art_type.strip().lower()\n",
        "\n",
        "  valid_types = {\n",
        "  \"painting\": \"Painting\",\n",
        "  \"photograph\": \"Photograph\",\n",
        "  \"sculpture\": \"Sculpture\",\n",
        "  \"drawing\": \"Drawing\",\n",
        "  }\n",
        "\n",
        "  if art_type in valid_types:\n",
        "    return valid_types[art_type]\n",
        "  else:\n",
        "    print(\"Error: Unknown artwork type. Please choose from the options:\")\n",
        "    print(\", \".join(valid_types.values()))\n",
        "    return \"\"\n",
        "\n",
        "#Testing function\n",
        "print(artwork_type(\"photograph\"))\n",
        "print(artwork_type(\"sculpture\"))"
      ],
      "metadata": {
        "colab": {
          "base_uri": "https://localhost:8080/"
        },
        "id": "5tMO7lKLEnMh",
        "outputId": "3564cc48-9f09-44f0-95c3-1a2b62e1d512"
      },
      "execution_count": null,
      "outputs": [
        {
          "output_type": "stream",
          "name": "stdout",
          "text": [
            "Photograph\n",
            "Sculpture\n"
          ]
        }
      ]
    },
    {
      "cell_type": "code",
      "source": [
        "# Atena Nikbakht - Complex Function\n",
        "\n",
        "def search_art_by_metadata(artworks: list, search_term: str, search_field: str = \"all\"):\n",
        "  \"\"\"\n",
        "  This function will search for artworks in system by artist, title, year, or any keywords the user provides.\n",
        "  Parameters:\n",
        "    artworks: a list of dictionaries\n",
        "    search_term (string): the word or phrase the user gives which will be used to search with.\n",
        "    search_field (string): The metadata field to seach like the artist, title, or all categories.\n",
        "  Return Value: a list of mataching artworks\n",
        "    \"\"\"\n",
        "  # if the search\n",
        "  if not isinstance(artworks, list):\n",
        "    print(\"Error: artworks must be a list.\")\n",
        "    return []\n",
        "  # If the given search term is not a string\n",
        "  if not isinstance(search_term, str):\n",
        "    print(\"Error: search term must be a string.\")\n",
        "    return []\n",
        "\n",
        "  search_term = search_term.lower().strip()\n",
        "  matches = []\n",
        "\n",
        "  for art in artworks:\n",
        "    if not isinstance(art, dict):\n",
        "      continue\n",
        "    # Getting the \"artist\" key from the dictionary, and if it doesn't exist, return empty string\n",
        "    artist = str(art.get(\"artist\", \"\")).lower()\n",
        "    title = str(art.get(\"title\", \"\")).lower()\n",
        "    year = str(art.get(\"year\", \"\"))\n",
        "    art_type = str(art.get(\"type\", \"\")).lower()\n",
        "    keywords = [k.lower() for k in art.get(\"keywords\", [])]\n",
        "\n",
        "    found = False\n",
        "    if search_field == \"artist\" and search_term in artist:\n",
        "      found = True\n",
        "    elif search_field == \"title\" and search_term in title:\n",
        "      found = True\n",
        "    elif search_field == \"year\" and search_term == year:\n",
        "      found = True\n",
        "    elif search_field == \"type\" and search_term in art_type:\n",
        "      found = True\n",
        "    elif search_field == \"keywords\" and search_term in keywords:\n",
        "      found = True\n",
        "    elif search_field == \"all\":\n",
        "      if (\n",
        "          search_term in artist\n",
        "          or search_term in title\n",
        "          or search_term in year\n",
        "          or search_term in art_type\n",
        "          or search_term in \" \".join(keywords)\n",
        "      ):\n",
        "        found = True\n",
        "\n",
        "    if found:\n",
        "      matches.append(art)\n",
        "\n",
        "  print(f\"Found {len(matches)} matches for '{search_term}' in field '{search_field}'.\")\n",
        "\n",
        "# Testing Function\n",
        "artworks = [\n",
        "    {\"title\": \"Starry Night\", \"artist\": \"Vincent van Gogh\", \"year\": 1889, \"type\": \"Painting\", \"keywords\": [\"post-impressionism\", \"night\", \"stars\"]},\n",
        "    {\"title\": \"Water Lilies\", \"artist\": \"Claude Monet\", \"year\": 1899, \"type\": \"Painting\", \"keywords\": [\"impressionism\", \"light\", \"French\"]}\n",
        "]\n",
        "\n",
        "results = search_art_by_metadata(artworks, \"Monet\", \"artist\")\n"
      ],
      "metadata": {
        "colab": {
          "base_uri": "https://localhost:8080/"
        },
        "id": "c8_RB1qcv0t8",
        "outputId": "6b8c34b5-44aa-47d0-bb1e-3b58ec4b455c"
      },
      "execution_count": null,
      "outputs": [
        {
          "output_type": "stream",
          "name": "stdout",
          "text": [
            "Found 1 matches for 'monet' in field 'artist'.\n"
          ]
        }
      ]
    },
    {
      "cell_type": "code",
      "source": [
        "# Eldaah Z\n",
        "\n",
        "  # Simple Functions\n",
        "def validate_dimensions():\n",
        "    \"\"\"Prompts user to enter artwork's height, length, and width, validating\n",
        "    each dimension and ensuring only positive numbers are entered.\n",
        "    \"\"\"\n",
        "    try:\n",
        "        height = float(input(\"Enter height (cm): \"))\n",
        "        length = float(input(\"Enter length (cm): \"))\n",
        "        width = float(input(\"Enter width (cm): \"))\n",
        "\n",
        "        if height <= 0 or length <= 0 or width <= 0:\n",
        "            print(\"Error: All dimensions must be positive numbers.\")\n",
        "            return None\n",
        "\n",
        "        print(f\"Dimensions validated: H={height}cm, L={length}cm, W={width}cm\")\n",
        "        return {\"Height\": height, \"Length\": length, \"Width\": width}\n",
        "\n",
        "    except ValueError:\n",
        "        print(\"Error: Please enter numeric values.\")\n",
        "        return None\n",
        "\n"
      ],
      "metadata": {
        "id": "wJrQLC6rpZfY"
      },
      "execution_count": null,
      "outputs": []
    },
    {
      "cell_type": "code",
      "source": [
        "\n",
        "# Medium Functions\n",
        "def search_art_by_artist():\n",
        "  \"\"\"\n",
        "  Allow user to search artwork in our library by artist name\n",
        "  \"\"\"\n",
        "artworks =[\n",
        "    {\"Title\": \"ArtworkName1\", \"ArtworkName2\": \"ArtworkName3\"}\n",
        "]\n",
        "search_artist = input(\"Enter the artist's name to search\")\n",
        "found_artworks = []\n",
        "\n",
        "for art in artworks:\n",
        "    if art[\"Artist\"].title() == artist_input:\n",
        "      found_artworks.append(art)\n",
        "\n",
        "if found_artworks:\n",
        "    print(f\"\\nFound {len(found_artworks)} artworks by {search_artist}:\")\n",
        "    for art in found_artworks:\n",
        "      print(f\" - art{art['Title']}\")\n",
        "    else:\n",
        "        print(f\"No artworks found by {search_artist}\")"
      ],
      "metadata": {
        "id": "HGphdtZdYj6I"
      },
      "execution_count": null,
      "outputs": []
    },
    {
      "cell_type": "code",
      "source": [
        "# Simple Function\n",
        "def clean_titles():\n",
        "  \"\"\"\n",
        "  Prompts user for artwrok title while remvoing special characters or extra spaces\n",
        "  \"\"\"\n",
        "  title = input(\"Enter artwork title:\")\n",
        "  special = r\"!@#$%^&*()+-_\\/?<>~`:;[]{}\"\n",
        "\n",
        "  for symbol in special:\n",
        "    title = title.replace(symbol, \"\")\n",
        "\n",
        "  title = title.strip()\n",
        "  print(f\"Sanitized title: {title}\")\n",
        "  return title\n"
      ],
      "metadata": {
        "id": "mJg5CzgsYfQa"
      },
      "execution_count": null,
      "outputs": []
    },
    {
      "cell_type": "code",
      "source": [
        "# Simple Function Selam\n",
        "def generate_artwork_id():\n",
        "  \"\"\"\n",
        "  Ask the user for the artwork's title and artist name, then create a short unique ID.\n",
        "  The ID helps us keep track of artworks in the archive.\n",
        "  \"\"\"\n",
        "  title = input(\"Enter artwork title: \")\n",
        "  artist = input(\"Enter artist name: \")\n",
        "\n",
        "  if title == \"\" or artist == \"\":\n",
        "    print(\"Error: Both title and artist must be entered.\")\n",
        "    return None\n",
        "\n",
        "  # Combine the first 3 letters of each with a number to make it simple and unique\n",
        "  artwork_id = (title[:3] + artist[:3]).upper() + \"001\"\n",
        "  print(f\"Generated Artwork ID: {artwork_id}\")\n",
        "  return artwork_id\n",
        "\n",
        "# Example test\n",
        "generate_artwork_id()\n"
      ],
      "metadata": {
        "colab": {
          "base_uri": "https://localhost:8080/",
          "height": 90
        },
        "id": "1fd-XuasG8EB",
        "outputId": "7122b992-3625-43d2-9b4f-07fd914e7e50"
      },
      "execution_count": null,
      "outputs": [
        {
          "output_type": "stream",
          "name": "stdout",
          "text": [
            "Enter artwork title: Monalisa \n",
            "Enter artist name: Da vinci \n",
            "Generated Artwork ID: MONDA 001\n"
          ]
        },
        {
          "output_type": "execute_result",
          "data": {
            "text/plain": [
              "'MONDA 001'"
            ],
            "application/vnd.google.colaboratory.intrinsic+json": {
              "type": "string"
            }
          },
          "metadata": {},
          "execution_count": 6
        }
      ]
    },
    {
      "cell_type": "code",
      "source": [
        "# Medium Function Selam\n",
        "def parse_creation_year():\n",
        "  \"\"\"\n",
        "  Ask the user for the year an artwork was created and check if it is valid.\n",
        "  The year must be between 1000 and 2025.\n",
        "  \"\"\"\n",
        "  try:\n",
        "    year = int(input(\"Enter the creation year of the artwork: \"))\n",
        "    if year < 1000 or year > 2025:\n",
        "      print(\"Error: Year must be between 1000 and 2025.\")\n",
        "      return None\n",
        "    else:\n",
        "      print(f\"Valid year entered: {year}\")\n",
        "      return year\n",
        "  except ValueError:\n",
        "    print(\"Error: Please enter a numeric value.\")\n",
        "    return None\n",
        "\n",
        "# Example test\n",
        "parse_creation_year()\n"
      ],
      "metadata": {
        "colab": {
          "base_uri": "https://localhost:8080/"
        },
        "id": "cIXt-f9EHoIg",
        "outputId": "b31aa555-a6db-43e1-b84c-a91f19602ee1"
      },
      "execution_count": null,
      "outputs": [
        {
          "output_type": "stream",
          "name": "stdout",
          "text": [
            "Enter the creation year of the artwork: 1922\n",
            "Valid year entered: 1922\n"
          ]
        },
        {
          "output_type": "execute_result",
          "data": {
            "text/plain": [
              "1922"
            ]
          },
          "metadata": {},
          "execution_count": 7
        }
      ]
    },
    {
      "cell_type": "code",
      "source": [
        "# Complex Function Selam\n",
        "def validate_artwork_record():\n",
        "  \"\"\"\n",
        "  Ask the user to enter details about an artwork and check if all fields are complete.\n",
        "  \"\"\"\n",
        "  title = input(\"Enter artwork title: \")\n",
        "  artist = input(\"Enter artist name: \")\n",
        "  year = input(\"Enter year created: \")\n",
        "  art_type = input(\"Enter artwork type (Painting, Sculpture, Photograph): \")\n",
        "\n",
        "  if not title or not artist or not year or not art_type:\n",
        "    print(\"Error: All fields must be filled in.\")\n",
        "    return None\n",
        "\n",
        "  try:\n",
        "    year = int(year)\n",
        "  except ValueError:\n",
        "    print(\"Error: Year must be a number.\")\n",
        "    return None\n",
        "\n",
        "  record = {\n",
        "      \"Title\": title.strip(),\n",
        "      \"Artist\": artist.strip(),\n",
        "      \"Year\": year,\n",
        "      \"Type\": art_type.strip().capitalize()\n",
        "  }\n",
        "\n",
        "  print(\"\\nArtwork record validated successfully!\")\n",
        "  print(record)\n",
        "  return record\n",
        "\n",
        "# Example test\n",
        "validate_artwork_record()\n"
      ],
      "metadata": {
        "colab": {
          "base_uri": "https://localhost:8080/"
        },
        "id": "eJsqn4zQHuTv",
        "outputId": "0111ed5e-bc1c-41a9-8261-b99c958c6d69"
      },
      "execution_count": null,
      "outputs": [
        {
          "output_type": "stream",
          "name": "stdout",
          "text": [
            "Enter artwork title: Painting \n",
            "Enter artist name: Leonardo da vinci\n",
            "Enter year created: 1922\n",
            "Enter artwork type (Painting, Sculpture, Photograph): Painting \n",
            "\n",
            "Artwork record validated successfully!\n",
            "{'Title': 'Painting', 'Artist': 'Leonardo da vinci', 'Year': 1922, 'Type': 'Painting'}\n"
          ]
        },
        {
          "output_type": "execute_result",
          "data": {
            "text/plain": [
              "{'Title': 'Painting',\n",
              " 'Artist': 'Leonardo da vinci',\n",
              " 'Year': 1922,\n",
              " 'Type': 'Painting'}"
            ]
          },
          "metadata": {},
          "execution_count": 8
        }
      ]
    },
    {
      "cell_type": "code",
      "source": [
        "#Faith - Simple Function - Check if artwork valid:\n",
        "def validate_year(year):\n",
        "  \"\"\"\n",
        "  Check if artwork is a valid number between 1000 and 2025\n",
        "  Args:\n",
        "    year: The year to validate (can be string or int)\n",
        "  Returns:\n",
        "    bool: True if valid, False if not\n",
        "  \"\"\"\n",
        "  try:\n",
        "    year_num = int(year)\n",
        "    if year_num >= 1000 and year_num <= 2025:\n",
        "      return True\n",
        "    else:\n",
        "      print(\"Error: Year must between 1000 and 2025.\")\n",
        "  except ValueError:\n",
        "    print(\"Error: Year must be a number.\")\n",
        "\n",
        "print(validate_year(1889))\n",
        "print(validate_year(3000))\n"
      ],
      "metadata": {
        "id": "XHbcoFWU40mn",
        "outputId": "dd4260ce-8e15-4451-d5c4-5bcf095e5f1d",
        "colab": {
          "base_uri": "https://localhost:8080/"
        }
      },
      "execution_count": 4,
      "outputs": [
        {
          "output_type": "stream",
          "name": "stdout",
          "text": [
            "True\n",
            "Error: Year must between 1000 and 2025.\n",
            "None\n"
          ]
        }
      ]
    },
    {
      "cell_type": "code",
      "source": [
        "#Faith - Simple Function - Count artwork by type:\n",
        "def count_by_type(artworks):\n",
        "  \"\"\"\n",
        "  Count how many artworks of each type are in the collection.\n",
        "  Args:\n",
        "    artworks: List of artwork dictionaries\n",
        "  Returns:\n",
        "    dict: Dictionary with type names with keys and counts as values\n",
        "  \"\"\"\n",
        "  type_counts = {}\n",
        "\n",
        "  for art in artworks:\n",
        "    art_type = art.get(\"type\", \"Unknown\")\n",
        "    if art_type in type_counts:\n",
        "      type_counts[art_type] = type_counts[art_type] + 1\n",
        "    else:\n",
        "      type_counts[art_type] = 1\n",
        "  return type_counts\n",
        "\n",
        "artworks = [\n",
        "    {\"title\": \"Starry Night\", \"artist\": \"Van Gogh\", \"year\": 1889, \"type\": \"Painting\"},\n",
        "    {\"title\": \"Mona Lisa\", \"artist\": \"Da Vinci\", \"year\": 1503, \"type\": \"Painting\"},\n",
        "    {\"title\": \"David\", \"artist\": \"Michelangelo\", \"year\": 1504, \"type\": \"Sculpture\"},\n",
        "    {\"title\": \"The Girl with a Pearl Earring\", \"artist\": \"Johannes Vermeer\" \"Van Delft\", \"year\": 1666, \"type\": \"Painting\"}\n",
        "]\n",
        "print(count_by_type(artworks))\n"
      ],
      "metadata": {
        "colab": {
          "base_uri": "https://localhost:8080/"
        },
        "id": "ruljAj4mULQy",
        "outputId": "5f6bb361-46d7-4981-aafe-6eefc95bb72e"
      },
      "execution_count": 1,
      "outputs": [
        {
          "output_type": "stream",
          "name": "stdout",
          "text": [
            "{'Painting': 3, 'Sculpture': 1}\n"
          ]
        }
      ]
    },
    {
      "cell_type": "code",
      "source": [
        "#Faith - Medium Function - artworks in year range\n",
        "def find_art_by_year_range(artworks, start_year, end_year):\n",
        "  \"\"\"\n",
        "  Find all artworks created between two years.\n",
        "  Args:\n",
        "    artworks: List of artwork dictionaries\n",
        "    start_year: Beginning of year range\n",
        "    end_year: End of year range\n",
        "  Returns:\n",
        "    list: list of artworks within year range\n",
        "  \"\"\"\n",
        "  if start_year > end_year:\n",
        "    print(f\"Error: Start year should be before end year.\")\n",
        "    return[]\n",
        "\n",
        "  found = []\n",
        "\n",
        "  for art in artworks:\n",
        "    year = art.get(\"year\")\n",
        "    if year:\n",
        "      try:\n",
        "        year_num = int(year)\n",
        "        if year_num >= start_year and year_num <= end_year:\n",
        "          found.append(art)\n",
        "      except ValueError:\n",
        "        continue\n",
        "  print(f\"Results for {len(found)} artworks between {start_year} and {end_year}\")\n",
        "  return found\n",
        "\n",
        "artworks = [\n",
        "    {\"title\": \"Starry Night\", \"artist\": \"Van Gogh\", \"year\": 1889, \"type\": \"Painting\"},\n",
        "    {\"title\": \"Mona Lisa\", \"artist\": \"Da Vinci\", \"year\": 1503, \"type\": \"Painting\"},\n",
        "    {\"title\": \"David\", \"artist\": \"Michelangelo\", \"year\": 1504, \"type\": \"Sculpture\"},\n",
        "    {\"title\": \"The Girl with a Pearl Earring\", \"artist\": \"Johannes Vermeer\" \"Van Delft\", \"year\": 1666, \"type\": \"Painting\"}\n",
        "]\n",
        "\n",
        "start = int(input(\"Enter start year: \"))\n",
        "end = int(input(\"Enter end year: \"))\n",
        "results = find_art_by_year_range(artworks, start, end)"
      ],
      "metadata": {
        "colab": {
          "base_uri": "https://localhost:8080/"
        },
        "id": "DEgDzSB7ULkC",
        "outputId": "51fbcd40-28d4-4f09-d478-33006670e3a3"
      },
      "execution_count": 2,
      "outputs": [
        {
          "output_type": "stream",
          "name": "stdout",
          "text": [
            "Enter start year: 1999\n",
            "Enter end year: 2014\n",
            "Results for 0 artworks between 1999 and 2014\n"
          ]
        }
      ]
    },
    {
      "cell_type": "code",
      "source": [
        "#Faith - Complex function - data issues\n",
        "def validate_collection(artworks):\n",
        "  \"\"\"\n",
        "  Check the collection for data quality, issues, and missing information.\n",
        "  Identifies artworks with missing and invalid data\n",
        "  Args:\n",
        "    artworks: List of artworks dictionaries\n",
        "  Returns:\n",
        "    dict: Report with the counts of issues and invalid artworks\n",
        "  \"\"\"\n",
        "  if not isinstance(artworks, list):\n",
        "    print(\"Error: artworks should be a list.\")\n",
        "    return{}\n",
        "  valid_types = [\"Painting\", \"Photograph\", \"Digital Art\", \"Drawing\", \"Mixed Media\"]\n",
        "  missing_fields = []\n",
        "  invalid_years = []\n",
        "  invalid_types = []\n",
        "\n",
        "  for i, art in enumerate(artworks):\n",
        "    if not isinstance(art, dict):\n",
        "      continue\n",
        "    artwork_id = i + 1\n",
        "    issues =[]\n",
        "\n",
        "    if not art.get(\"title\") or art.get(\"title\").strip() == \"\":\n",
        "      issues.append(\"missing title\")\n",
        "    if not art.get(\"artist\") or art.get(\"artist\").strip() == \"\":\n",
        "      issues.append(\"missing artist\")\n",
        "    if not art.get(\"year\"):\n",
        "      issues.append(\"missing year\")\n",
        "\n",
        "    if issues:\n",
        "      missing_fields.append({\"id\": artwork_id, \"artwork\": art, \"issues\": issues})\n",
        "\n",
        "    year = art.get(\"year\")\n",
        "    if year:\n",
        "      try:\n",
        "        year_num = int(year)\n",
        "        if year_num < 1000 or year_num > 2025:\n",
        "          invalid_years.append({\"id\": artwork_id, \"artwork\": art})\n",
        "      except (ValueError, TypeError):\n",
        "        invalid_years.append({\"id\": artwork_id, \"artwork\": art})\n",
        "\n",
        "    art_type = art.get(\"type\")\n",
        "    if art_type and art_type not in valid_types:\n",
        "      invalid_types.append({\"id\": artwork_id, \"artwork\": art, \"type\": art_type})\n",
        "\n",
        "  total_issues = len(missing_fields) + len(invalid_years) + len(invalid_types)\n",
        "\n",
        "  report = {\n",
        "      \"total_artworks\": len(artworks),\n",
        "      \"total_issues\": total_issues,\n",
        "      \"missing_fields\": missing_fields,\n",
        "      \"invalid_years\": invalid_years,\n",
        "      \"invalid_types\": invalid_types\n",
        "  }\n",
        "\n",
        "  print(f\"Validation complete: {total_issues} issues found in {len(artworks)} artworks.\")\n",
        "  print(f\"  - {len(missing_fields)} artworks with missing fields\")\n",
        "  print(f\"  - {len(invalid_years)} artworks with invalid years\")\n",
        "  print(f\"  - {len(invalid_types)} artworks with invalid types\")\n",
        "\n",
        "  return report\n",
        "\n",
        "artworks = [\n",
        "    {\"title\": \"Starry Night\", \"artist\": \"Van Gogh\", \"year\": 1889, \"type\": \"Painting\"},\n",
        "    {\"title\": \"Mona Lisa\", \"artist\": \"Da Vinci\", \"year\": 1503, \"type\": \"Painting\"},\n",
        "    {\"title\": \"David\", \"artist\": \"Michelangelo\", \"year\": 1504, \"type\": \"Sculpture\"},\n",
        "    {\"title\": \"The Girl with a Pearl Earring\", \"artist\": \"Johannes Vermeer\" \"Van Delft\", \"year\": 1666, \"type\": \"Painting\"},\n",
        "    {\"title\": \"Everydays: The First 5000 Days\", \"artist\": \"Beeple\", \"year\": 2021, \"type\": \"Digital Art\"},\n",
        "    {\"title\": \"Quantum\", \"artist\": \"Kevin McCoy\", \"year\": 2014, \"type\": \"Digital Art\"},\n",
        "    {\"title\": \"Quantum\", \"artist\": \"Kevin McCoy\", \"year\": 2014, \"type\": \"Digital Art\"},\n",
        "    {\"title\": \"Infinity Mirrored Room – The Souls of Millions of Light Years Away\", \"artist\": \"Yayoi Kusama\", \"year\": 2013, \"type\": \"Mixed Media\"}\n",
        "\n",
        "]\n",
        "result = validate_collection(artworks)\n",
        "\n"
      ],
      "metadata": {
        "colab": {
          "base_uri": "https://localhost:8080/"
        },
        "id": "Uz7Y99axUcPn",
        "outputId": "df186223-1867-40c1-8e3c-f469f4ab324d"
      },
      "execution_count": 3,
      "outputs": [
        {
          "output_type": "stream",
          "name": "stdout",
          "text": [
            "Validation complete: 1 issues found in 8 artworks.\n",
            "  - 0 artworks with missing fields\n",
            "  - 0 artworks with invalid years\n",
            "  - 1 artworks with invalid types\n"
          ]
        }
      ]
    },
    {
      "cell_type": "code",
      "source": [],
      "metadata": {
        "id": "vqwX7sYAUgj2"
      },
      "execution_count": null,
      "outputs": []
    }
  ]
}